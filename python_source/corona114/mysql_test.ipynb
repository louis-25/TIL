{
 "cells": [
  {
   "cell_type": "code",
   "execution_count": 6,
   "metadata": {},
   "outputs": [
    {
     "name": "stdout",
     "output_type": "stream",
     "text": [
      "(datetime.date(2021, 6, 16), 31, 11, 0, 0, 0, 0, 0, 0, 102, 0, 6, 2, 0, 10, 0, 25, 5)\n"
     ]
    }
   ],
   "source": [
    "import mysql.connector\n",
    "import datetime as dt\n",
    "\n",
    "update_date = dt.datetime.now()\n",
    "# MariaDB 커넥션 생성\n",
    "try:\n",
    "    conn = mysql.connector.connect(\n",
    "        user=\"coviduser\",\n",
    "        password=\"covid_1234\",\n",
    "        host=\"127.0.0.1\",\n",
    "        port=3306,\n",
    "        database=\"covid114\"\n",
    "    )\n",
    "    #print(conn)\n",
    "except mysql.connector.Error as e:\n",
    "    print(e)\n",
    "    \n",
    "cur = conn.cursor() # 커서 생성\n",
    "now = dt.datetime.now() # 현재 시간 받아와서\n",
    "now_str = update_date.strftime('%Y-%m-%d') # 연월일 str 데이터로 변경\n",
    "\n",
    "# covid_live table에 현재 날짜 데이터가 있는지 확인\n",
    "#sql = \"SELECT * FROM covid_live WHERE live_date = '\" + now_str + \"'\" # 쿼리 생성\n",
    "sql = \"select * from covid_live\"\n",
    "cur.execute(sql) # 쿼리 실행\n",
    "sql_result = cur.fetchone() # 결과 값 입력\n",
    "\n",
    "print(sql_result)"
   ]
  },
  {
   "cell_type": "code",
   "execution_count": null,
   "metadata": {},
   "outputs": [],
   "source": []
  }
 ],
 "metadata": {
  "kernelspec": {
   "display_name": "Python 3",
   "language": "python",
   "name": "python3"
  },
  "language_info": {
   "codemirror_mode": {
    "name": "ipython",
    "version": 3
   },
   "file_extension": ".py",
   "mimetype": "text/x-python",
   "name": "python",
   "nbconvert_exporter": "python",
   "pygments_lexer": "ipython3",
   "version": "3.8.5"
  }
 },
 "nbformat": 4,
 "nbformat_minor": 4
}
